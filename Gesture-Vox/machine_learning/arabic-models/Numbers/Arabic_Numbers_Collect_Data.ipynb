{
  "nbformat": 4,
  "nbformat_minor": 0,
  "metadata": {
    "colab": {
      "provenance": []
    },
    "kernelspec": {
      "name": "python3",
      "display_name": "Python 3"
    },
    "language_info": {
      "name": "python"
    }
  },
  "cells": [
    {
      "cell_type": "code",
      "execution_count": null,
      "metadata": {
        "id": "Oml5k23uvGIu"
      },
      "outputs": [],
      "source": [
        "import cv2\n",
        "import os\n",
        "\n",
        "\n",
        "dataset_dir = \"A_Number Data Set\"\n",
        "classes = [\"٠\", \"١\", \"٢\", \"٣\", \"٤\", \"٥\", \"٦\", \"٧\", \"٨\", \"٩\"] + [\"حذف\", \"مسافة\"]\n",
        "num_images_per_class = 1000\n",
        "\n",
        "\n",
        "if not os.path.exists(dataset_dir):\n",
        "    os.makedirs(dataset_dir)\n",
        "\n",
        "for class_name in classes:\n",
        "    class_path = os.path.join(dataset_dir, class_name)\n",
        "    if not os.path.exists(class_path):\n",
        "        os.makedirs(class_path)\n",
        "\n",
        "cap = cv2.VideoCapture(0)\n",
        "\n",
        "if not cap.isOpened():\n",
        "    print(\"Camera opening error\")\n",
        "    exit()\n",
        "\n",
        "for class_name in classes:\n",
        "    print(f\" Press 's' to start collecting data: {class_name}...\")\n",
        "\n",
        "    while True:\n",
        "        ret, frame = cap.read()\n",
        "        if not ret:\n",
        "            print(\"Failed to read camera!\")\n",
        "            break\n",
        "\n",
        "        cv2.putText(frame, f\"Ready to collect: {class_name},Press 's' to start\", (10, 50),\n",
        "                    cv2.FONT_HERSHEY_SIMPLEX, 1, (255, 0, 0), 2)\n",
        "        cv2.imshow(\"Camera\", frame)\n",
        "\n",
        "        key = cv2.waitKey(1) & 0xFF\n",
        "        if key == ord('s'):\n",
        "            print(f\"Start collecting images for{class_name}\")\n",
        "            break\n",
        "\n",
        "    img_count = 0\n",
        "    while img_count < num_images_per_class:\n",
        "        ret, frame = cap.read()\n",
        "        if not ret:\n",
        "            print(\"Failed to read camera!\")\n",
        "            break\n",
        "\n",
        "        cv2.putText(frame, f\"جمع: {class_name} ({img_count}/{num_images_per_class})\", (10, 50),\n",
        "                    cv2.FONT_HERSHEY_SIMPLEX, 1, (0, 255, 0), 2)\n",
        "        cv2.imshow(\"Camera\", frame)\n",
        "\n",
        "        img_path = os.path.join(dataset_dir, class_name, f\"{img_count}.jpg\")\n",
        "        cv2.imwrite(img_path, frame)\n",
        "        img_count += 1\n",
        "        print(f\"Photo taken{img_count} for{class_name}\")\n",
        "\n",
        "        if cv2.waitKey(1) & 0xFF == ord('q'):\n",
        "            print(\"The code has been manually disabled.\")\n",
        "            cap.release()\n",
        "            cv2.destroyAllWindows()\n",
        "            exit()\n",
        "\n",
        "    print(f\"Collected{num_images_per_class}Picture of a class{class_name}. Go to the next category.\")\n",
        "\n",
        "print(\"All required data has been collected\")\n",
        "cap.release()\n",
        "cv2.destroyAllWindows()\n",
        "\n"
      ]
    }
  ]
}