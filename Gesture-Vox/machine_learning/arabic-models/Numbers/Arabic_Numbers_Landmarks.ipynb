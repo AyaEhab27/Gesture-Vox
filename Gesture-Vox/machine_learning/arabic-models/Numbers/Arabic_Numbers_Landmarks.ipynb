{
  "nbformat": 4,
  "nbformat_minor": 0,
  "metadata": {
    "colab": {
      "provenance": []
    },
    "kernelspec": {
      "name": "python3",
      "display_name": "Python 3"
    },
    "language_info": {
      "name": "python"
    }
  },
  "cells": [
    {
      "cell_type": "code",
      "execution_count": null,
      "metadata": {
        "id": "Oml5k23uvGIu"
      },
      "outputs": [],
      "source": [
        "import cv2\n",
        "import mediapipe as mp\n",
        "import os\n",
        "import numpy as np\n",
        "import json\n",
        "\n",
        "mp_hands = mp.solutions.hands\n",
        "hands = mp_hands.Hands(static_image_mode=True, max_num_hands=1, min_detection_confidence=0.5)\n",
        "mp_drawing = mp.solutions.drawing_utils\n",
        "\n",
        "\n",
        "DATASET_PATH = \"D:/A_Number Data Set\"\n",
        "LANDMARKS_PATH = \"D:/Landmarks\"\n",
        "\n",
        "\n",
        "if not os.path.exists(LANDMARKS_PATH):\n",
        "    os.makedirs(LANDMARKS_PATH)\n",
        "\n",
        "\n",
        "for category in os.listdir(DATASET_PATH):\n",
        "    category_path = os.path.join(DATASET_PATH, category)\n",
        "    landmarks_category_path = os.path.join(LANDMARKS_PATH, category)\n",
        "\n",
        "    if not os.path.exists(landmarks_category_path):\n",
        "        os.makedirs(landmarks_category_path)\n",
        "\n",
        "\n",
        "    for img_name in os.listdir(category_path):\n",
        "        img_path = os.path.join(category_path, img_name)\n",
        "\n",
        "\n",
        "        image = cv2.imread(img_path)\n",
        "        image_rgb = cv2.cvtColor(image, cv2.COLOR_BGR2RGB)\n",
        "\n",
        "\n",
        "        results = hands.process(image_rgb)\n",
        "        if results.multi_hand_landmarks:\n",
        "            for hand_landmarks in results.multi_hand_landmarks:\n",
        "                landmarks = []\n",
        "                for lm in hand_landmarks.landmark:\n",
        "                    landmarks.append([lm.x, lm.y, lm.z])\n",
        "\n",
        "\n",
        "                json_path = os.path.join(landmarks_category_path, img_name.replace(\".jpg\", \".json\"))\n",
        "                with open(json_path, \"w\") as f:\n",
        "                    json.dump(landmarks, f)\n",
        "\n",
        "print(\"Landmarks extracted successfully\")\n"
      ]
    }
  ]
}